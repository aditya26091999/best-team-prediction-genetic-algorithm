{
  "nbformat": 4,
  "nbformat_minor": 0,
  "metadata": {
    "colab": {
      "name": "genetic-algorithm-teamselection.ipynb",
      "provenance": [],
      "collapsed_sections": [
        "ELuCyxW-BePB",
        "T00276JqBe8j",
        "0nbODASlBfuv"
      ],
      "authorship_tag": "ABX9TyMta6D8uFANQbRSVBlBOviT",
      "include_colab_link": true
    },
    "kernelspec": {
      "name": "python3",
      "display_name": "Python 3"
    },
    "language_info": {
      "name": "python"
    }
  },
  "cells": [
    {
      "cell_type": "markdown",
      "metadata": {
        "id": "view-in-github",
        "colab_type": "text"
      },
      "source": [
        "<a href=\"https://colab.research.google.com/github/aditya26091999/genetic-algo-team-selection/blob/master/genetic_algorithm_teamselection.ipynb\" target=\"_parent\"><img src=\"https://colab.research.google.com/assets/colab-badge.svg\" alt=\"Open In Colab\"/></a>"
      ]
    },
    {
      "cell_type": "markdown",
      "metadata": {
        "id": "ELuCyxW-BePB"
      },
      "source": [
        "# Dependencies and Dataset retrieval"
      ]
    },
    {
      "cell_type": "code",
      "metadata": {
        "colab": {
          "base_uri": "https://localhost:8080/"
        },
        "id": "OfLgX_tLB4-x",
        "outputId": "33a99d7c-8ae3-40be-976b-65c440c99667"
      },
      "source": [
        "!pip install termcolor\n",
        "import numpy as np\n",
        "import pandas as pd\n",
        "import matplotlib.pyplot as plt\n",
        "from termcolor import colored\n",
        "import random as rn"
      ],
      "execution_count": 86,
      "outputs": [
        {
          "output_type": "stream",
          "text": [
            "Requirement already satisfied: termcolor in /usr/local/lib/python3.7/dist-packages (1.1.0)\n"
          ],
          "name": "stdout"
        }
      ]
    },
    {
      "cell_type": "code",
      "metadata": {
        "colab": {
          "base_uri": "https://localhost:8080/",
          "height": 0
        },
        "id": "fmRm2Z97B8EW",
        "outputId": "ca890daa-0cbc-437c-f018-042b045f9f5a"
      },
      "source": [
        "#loading the dataset from Github folder\n",
        "datasetUrl = 'https://raw.githubusercontent.com/aditya26091999/genetic-algo-team-selection/master/SCOA_Dataset.csv?token=AMREUDFFUSQ4AQGENVAWS4DAXME7Q'\n",
        "dataset = pd.read_csv(datasetUrl)\n",
        "\n",
        "#checking the dataset loaded from Github\n",
        "display(dataset.head())"
      ],
      "execution_count": 87,
      "outputs": [
        {
          "output_type": "display_data",
          "data": {
            "text/html": [
              "<div>\n",
              "<style scoped>\n",
              "    .dataframe tbody tr th:only-of-type {\n",
              "        vertical-align: middle;\n",
              "    }\n",
              "\n",
              "    .dataframe tbody tr th {\n",
              "        vertical-align: top;\n",
              "    }\n",
              "\n",
              "    .dataframe thead th {\n",
              "        text-align: right;\n",
              "    }\n",
              "</style>\n",
              "<table border=\"1\" class=\"dataframe\">\n",
              "  <thead>\n",
              "    <tr style=\"text-align: right;\">\n",
              "      <th></th>\n",
              "      <th>Timestamp</th>\n",
              "      <th>Name</th>\n",
              "      <th>Email</th>\n",
              "      <th>User Interface (UI) [UI]</th>\n",
              "      <th>API (Server Side programming) [API]</th>\n",
              "      <th>Languages [Language]</th>\n",
              "      <th>Tools [Tools]</th>\n",
              "      <th>Databases [DB]</th>\n",
              "      <th>Cloud [Cloud]</th>\n",
              "      <th>Artificial Intelligence [AI]</th>\n",
              "      <th>Internet of Things [IOT]</th>\n",
              "      <th>Testing [Testing]</th>\n",
              "      <th>Overview of your skillset [SkillSet]</th>\n",
              "    </tr>\n",
              "  </thead>\n",
              "  <tbody>\n",
              "    <tr>\n",
              "      <th>0</th>\n",
              "      <td>5/22/2021 10:53:05</td>\n",
              "      <td>Aditya Kawale</td>\n",
              "      <td>adityamkawale@gmail.com</td>\n",
              "      <td>HTML, CSS, JavaScript, Angular, React, Bootstrap</td>\n",
              "      <td>Flask, Django, Anvil</td>\n",
              "      <td>Python, Java</td>\n",
              "      <td>Jenkins, Docker, Git, JIRA</td>\n",
              "      <td>MySQL, Oracle, MongoDB, SQLite</td>\n",
              "      <td>Heroku, Firebase, Azure</td>\n",
              "      <td>Speech Recognition</td>\n",
              "      <td>RaspberryPi</td>\n",
              "      <td>JUnit, Selenium, Postman, SoapUI</td>\n",
              "      <td>FrontEnd, BackEnd, Databases, Testing, Cloud, ...</td>\n",
              "    </tr>\n",
              "    <tr>\n",
              "      <th>1</th>\n",
              "      <td>5/22/2021 10:58:35</td>\n",
              "      <td>Chirag Kriplani</td>\n",
              "      <td>chiragkriplani@yahoo.in</td>\n",
              "      <td>HTML, CSS, JavaScript, Angular, Native Android...</td>\n",
              "      <td>Spring</td>\n",
              "      <td>Java, C++, C</td>\n",
              "      <td>Git, JIRA</td>\n",
              "      <td>MySQL, MongoDB</td>\n",
              "      <td>NaN</td>\n",
              "      <td>Tensorflow, Keras, Computer Vision</td>\n",
              "      <td>RaspberryPi, Arduino, Motors</td>\n",
              "      <td>Postman</td>\n",
              "      <td>FrontEnd, BackEnd, Databases</td>\n",
              "    </tr>\n",
              "    <tr>\n",
              "      <th>2</th>\n",
              "      <td>5/22/2021 10:59:22</td>\n",
              "      <td>Hrishikesh Badakh</td>\n",
              "      <td>hrishikeshbadakh@gmail.com</td>\n",
              "      <td>HTML, CSS, JavaScript, Angular, React, Bootstrap</td>\n",
              "      <td>Django</td>\n",
              "      <td>Python, Java, C++</td>\n",
              "      <td>Kubernetes, Git, JIRA</td>\n",
              "      <td>MySQL, Oracle, MongoDB</td>\n",
              "      <td>Heroku, AWS</td>\n",
              "      <td>Tensorflow, Keras</td>\n",
              "      <td>RaspberryPi, Arduino, RFID module</td>\n",
              "      <td>NaN</td>\n",
              "      <td>FrontEnd</td>\n",
              "    </tr>\n",
              "    <tr>\n",
              "      <th>3</th>\n",
              "      <td>5/22/2021 11:01:29</td>\n",
              "      <td>Tanuj Balkhande</td>\n",
              "      <td>tbalkhande010@gmail.com</td>\n",
              "      <td>HTML, CSS, JavaScript, Angular, Bootstrap</td>\n",
              "      <td>Flask</td>\n",
              "      <td>Python, C++, C</td>\n",
              "      <td>Windows Shell Script, Linux Bash, Powershell, Git</td>\n",
              "      <td>MySQL, MongoDB</td>\n",
              "      <td>Heroku</td>\n",
              "      <td>NaN</td>\n",
              "      <td>NaN</td>\n",
              "      <td>NaN</td>\n",
              "      <td>FrontEnd</td>\n",
              "    </tr>\n",
              "    <tr>\n",
              "      <th>4</th>\n",
              "      <td>5/22/2021 11:01:30</td>\n",
              "      <td>Sushil Kamble</td>\n",
              "      <td>iamsushil303@gmail.com</td>\n",
              "      <td>HTML, CSS, JavaScript, React, Bootstrap</td>\n",
              "      <td>Django</td>\n",
              "      <td>Python, Java, C++</td>\n",
              "      <td>Windows Shell Script, Linux Bash, Powershell, Git</td>\n",
              "      <td>MySQL, Oracle, SQLServer, PostgresSQL, MongoDB...</td>\n",
              "      <td>Heroku, Firebase, GCP</td>\n",
              "      <td>NaN</td>\n",
              "      <td>NaN</td>\n",
              "      <td>NaN</td>\n",
              "      <td>FrontEnd, BackEnd, Databases, Cloud, ProjectMa...</td>\n",
              "    </tr>\n",
              "  </tbody>\n",
              "</table>\n",
              "</div>"
            ],
            "text/plain": [
              "            Timestamp  ...               Overview of your skillset [SkillSet]\n",
              "0  5/22/2021 10:53:05  ...  FrontEnd, BackEnd, Databases, Testing, Cloud, ...\n",
              "1  5/22/2021 10:58:35  ...                       FrontEnd, BackEnd, Databases\n",
              "2  5/22/2021 10:59:22  ...                                           FrontEnd\n",
              "3  5/22/2021 11:01:29  ...                                           FrontEnd\n",
              "4  5/22/2021 11:01:30  ...  FrontEnd, BackEnd, Databases, Cloud, ProjectMa...\n",
              "\n",
              "[5 rows x 13 columns]"
            ]
          },
          "metadata": {
            "tags": []
          }
        }
      ]
    },
    {
      "cell_type": "code",
      "metadata": {
        "colab": {
          "base_uri": "https://localhost:8080/",
          "height": 0
        },
        "id": "xskws-nJCBQz",
        "outputId": "7275a969-e3f5-44fd-e8e6-7cb30f82ebd3"
      },
      "source": [
        "print(colored(\"Original dataset columns\\n\",\"blue\"))\n",
        "print(dataset.columns)\n",
        "print(colored(\"\\nOriginal dataset shape : {}\".format(str(dataset.shape)),\"blue\"))\n",
        "\n",
        "dataset.drop(['Timestamp'],axis=1,inplace=True)\n",
        "dataset.rename(columns={'User Interface (UI) [UI]': 'UI','API (Server Side programming) [API]':'API','Languages [Language]':'Language','Tools [Tools]':'Tools','Databases [DB]':'DB','Cloud [Cloud]':'Cloud','Artificial Intelligence [AI]':'AI','Internet of Things [IOT]':'IOT','Testing [Testing]':'Testing','Overview of your skillset [SkillSet]':'SkillSet'}, inplace=True)\n",
        "print(colored(\"\\nAfter removing obsolete columns\\n\",\"blue\"))\n",
        "print(dataset.columns)\n",
        "print(colored(\"\\nPreprocessed dataset shape : {}\".format(str(dataset.shape)),\"blue\"))\n",
        "\n",
        "dataset.head()"
      ],
      "execution_count": 88,
      "outputs": [
        {
          "output_type": "stream",
          "text": [
            "\u001b[34mOriginal dataset columns\n",
            "\u001b[0m\n",
            "Index(['Timestamp', 'Name', 'Email', 'User Interface (UI) [UI]',\n",
            "       'API (Server Side programming) [API]', 'Languages [Language]',\n",
            "       'Tools [Tools]', 'Databases [DB]', 'Cloud [Cloud]',\n",
            "       'Artificial Intelligence [AI]', 'Internet of Things [IOT]',\n",
            "       'Testing [Testing]', 'Overview of your skillset [SkillSet]'],\n",
            "      dtype='object')\n",
            "\u001b[34m\n",
            "Original dataset shape : (78, 13)\u001b[0m\n",
            "\u001b[34m\n",
            "After removing obsolete columns\n",
            "\u001b[0m\n",
            "Index(['Name', 'Email', 'UI', 'API', 'Language', 'Tools', 'DB', 'Cloud', 'AI',\n",
            "       'IOT', 'Testing', 'SkillSet'],\n",
            "      dtype='object')\n",
            "\u001b[34m\n",
            "Preprocessed dataset shape : (78, 12)\u001b[0m\n"
          ],
          "name": "stdout"
        },
        {
          "output_type": "execute_result",
          "data": {
            "text/html": [
              "<div>\n",
              "<style scoped>\n",
              "    .dataframe tbody tr th:only-of-type {\n",
              "        vertical-align: middle;\n",
              "    }\n",
              "\n",
              "    .dataframe tbody tr th {\n",
              "        vertical-align: top;\n",
              "    }\n",
              "\n",
              "    .dataframe thead th {\n",
              "        text-align: right;\n",
              "    }\n",
              "</style>\n",
              "<table border=\"1\" class=\"dataframe\">\n",
              "  <thead>\n",
              "    <tr style=\"text-align: right;\">\n",
              "      <th></th>\n",
              "      <th>Name</th>\n",
              "      <th>Email</th>\n",
              "      <th>UI</th>\n",
              "      <th>API</th>\n",
              "      <th>Language</th>\n",
              "      <th>Tools</th>\n",
              "      <th>DB</th>\n",
              "      <th>Cloud</th>\n",
              "      <th>AI</th>\n",
              "      <th>IOT</th>\n",
              "      <th>Testing</th>\n",
              "      <th>SkillSet</th>\n",
              "    </tr>\n",
              "  </thead>\n",
              "  <tbody>\n",
              "    <tr>\n",
              "      <th>0</th>\n",
              "      <td>Aditya Kawale</td>\n",
              "      <td>adityamkawale@gmail.com</td>\n",
              "      <td>HTML, CSS, JavaScript, Angular, React, Bootstrap</td>\n",
              "      <td>Flask, Django, Anvil</td>\n",
              "      <td>Python, Java</td>\n",
              "      <td>Jenkins, Docker, Git, JIRA</td>\n",
              "      <td>MySQL, Oracle, MongoDB, SQLite</td>\n",
              "      <td>Heroku, Firebase, Azure</td>\n",
              "      <td>Speech Recognition</td>\n",
              "      <td>RaspberryPi</td>\n",
              "      <td>JUnit, Selenium, Postman, SoapUI</td>\n",
              "      <td>FrontEnd, BackEnd, Databases, Testing, Cloud, ...</td>\n",
              "    </tr>\n",
              "    <tr>\n",
              "      <th>1</th>\n",
              "      <td>Chirag Kriplani</td>\n",
              "      <td>chiragkriplani@yahoo.in</td>\n",
              "      <td>HTML, CSS, JavaScript, Angular, Native Android...</td>\n",
              "      <td>Spring</td>\n",
              "      <td>Java, C++, C</td>\n",
              "      <td>Git, JIRA</td>\n",
              "      <td>MySQL, MongoDB</td>\n",
              "      <td>NaN</td>\n",
              "      <td>Tensorflow, Keras, Computer Vision</td>\n",
              "      <td>RaspberryPi, Arduino, Motors</td>\n",
              "      <td>Postman</td>\n",
              "      <td>FrontEnd, BackEnd, Databases</td>\n",
              "    </tr>\n",
              "    <tr>\n",
              "      <th>2</th>\n",
              "      <td>Hrishikesh Badakh</td>\n",
              "      <td>hrishikeshbadakh@gmail.com</td>\n",
              "      <td>HTML, CSS, JavaScript, Angular, React, Bootstrap</td>\n",
              "      <td>Django</td>\n",
              "      <td>Python, Java, C++</td>\n",
              "      <td>Kubernetes, Git, JIRA</td>\n",
              "      <td>MySQL, Oracle, MongoDB</td>\n",
              "      <td>Heroku, AWS</td>\n",
              "      <td>Tensorflow, Keras</td>\n",
              "      <td>RaspberryPi, Arduino, RFID module</td>\n",
              "      <td>NaN</td>\n",
              "      <td>FrontEnd</td>\n",
              "    </tr>\n",
              "    <tr>\n",
              "      <th>3</th>\n",
              "      <td>Tanuj Balkhande</td>\n",
              "      <td>tbalkhande010@gmail.com</td>\n",
              "      <td>HTML, CSS, JavaScript, Angular, Bootstrap</td>\n",
              "      <td>Flask</td>\n",
              "      <td>Python, C++, C</td>\n",
              "      <td>Windows Shell Script, Linux Bash, Powershell, Git</td>\n",
              "      <td>MySQL, MongoDB</td>\n",
              "      <td>Heroku</td>\n",
              "      <td>NaN</td>\n",
              "      <td>NaN</td>\n",
              "      <td>NaN</td>\n",
              "      <td>FrontEnd</td>\n",
              "    </tr>\n",
              "    <tr>\n",
              "      <th>4</th>\n",
              "      <td>Sushil Kamble</td>\n",
              "      <td>iamsushil303@gmail.com</td>\n",
              "      <td>HTML, CSS, JavaScript, React, Bootstrap</td>\n",
              "      <td>Django</td>\n",
              "      <td>Python, Java, C++</td>\n",
              "      <td>Windows Shell Script, Linux Bash, Powershell, Git</td>\n",
              "      <td>MySQL, Oracle, SQLServer, PostgresSQL, MongoDB...</td>\n",
              "      <td>Heroku, Firebase, GCP</td>\n",
              "      <td>NaN</td>\n",
              "      <td>NaN</td>\n",
              "      <td>NaN</td>\n",
              "      <td>FrontEnd, BackEnd, Databases, Cloud, ProjectMa...</td>\n",
              "    </tr>\n",
              "  </tbody>\n",
              "</table>\n",
              "</div>"
            ],
            "text/plain": [
              "                Name  ...                                           SkillSet\n",
              "0      Aditya Kawale  ...  FrontEnd, BackEnd, Databases, Testing, Cloud, ...\n",
              "1    Chirag Kriplani  ...                       FrontEnd, BackEnd, Databases\n",
              "2  Hrishikesh Badakh  ...                                           FrontEnd\n",
              "3    Tanuj Balkhande  ...                                           FrontEnd\n",
              "4      Sushil Kamble  ...  FrontEnd, BackEnd, Databases, Cloud, ProjectMa...\n",
              "\n",
              "[5 rows x 12 columns]"
            ]
          },
          "metadata": {
            "tags": []
          },
          "execution_count": 88
        }
      ]
    },
    {
      "cell_type": "markdown",
      "metadata": {
        "id": "T00276JqBe8j"
      },
      "source": [
        "# Genome Making - Approach 1\n",
        "(Using SkillSet column in dataset)"
      ]
    },
    {
      "cell_type": "code",
      "metadata": {
        "colab": {
          "base_uri": "https://localhost:8080/",
          "height": 589
        },
        "id": "eO-CVfM0CMlq",
        "outputId": "2ac33c61-aa38-4bfb-e358-9a64b20dabd8"
      },
      "source": [
        "genome_columns = ['Name','Email','FrontEnd','BackEnd','Databases','Testing','Cloud','AI','IOT','ProjectManagement']\n",
        "skill_set = ['FrontEnd','BackEnd','Databases','Testing','Cloud','AI','IOT','ProjectManagement']\n",
        "genome_dataset = pd.DataFrame(columns=genome_columns)\n",
        "\n",
        "for student in dataset.values:\n",
        "  student_name = student[0]\n",
        "  student_email= student[1]\n",
        "  student_skillset = student[11].replace(\" \",\"\").split(',')\n",
        "  temp_dict = dict()\n",
        "  temp_dict['Name'] = student_name\n",
        "  temp_dict['Email'] = student_email\n",
        "  for i in skill_set:\n",
        "    if i in student_skillset:\n",
        "      temp_dict[i]=1\n",
        "    else:\n",
        "      temp_dict[i]=0\n",
        "  genome_dataset = genome_dataset.append(temp_dict,ignore_index=True)\n",
        "\n",
        "display(genome_dataset.head())\n",
        "\n",
        "print(colored(\"\\nShape of genome dataframe : {}\".format(str(genome_dataset.shape)),\"blue\"))\n",
        "\n",
        "display(genome_dataset.describe().T)\n"
      ],
      "execution_count": null,
      "outputs": [
        {
          "output_type": "display_data",
          "data": {
            "text/html": [
              "<div>\n",
              "<style scoped>\n",
              "    .dataframe tbody tr th:only-of-type {\n",
              "        vertical-align: middle;\n",
              "    }\n",
              "\n",
              "    .dataframe tbody tr th {\n",
              "        vertical-align: top;\n",
              "    }\n",
              "\n",
              "    .dataframe thead th {\n",
              "        text-align: right;\n",
              "    }\n",
              "</style>\n",
              "<table border=\"1\" class=\"dataframe\">\n",
              "  <thead>\n",
              "    <tr style=\"text-align: right;\">\n",
              "      <th></th>\n",
              "      <th>Name</th>\n",
              "      <th>Email</th>\n",
              "      <th>FrontEnd</th>\n",
              "      <th>BackEnd</th>\n",
              "      <th>Databases</th>\n",
              "      <th>Testing</th>\n",
              "      <th>Cloud</th>\n",
              "      <th>AI</th>\n",
              "      <th>IOT</th>\n",
              "      <th>ProjectManagement</th>\n",
              "    </tr>\n",
              "  </thead>\n",
              "  <tbody>\n",
              "    <tr>\n",
              "      <th>0</th>\n",
              "      <td>Aditya Kawale</td>\n",
              "      <td>adityamkawale@gmail.com</td>\n",
              "      <td>1</td>\n",
              "      <td>1</td>\n",
              "      <td>1</td>\n",
              "      <td>1</td>\n",
              "      <td>1</td>\n",
              "      <td>0</td>\n",
              "      <td>0</td>\n",
              "      <td>1</td>\n",
              "    </tr>\n",
              "    <tr>\n",
              "      <th>1</th>\n",
              "      <td>Chirag Kriplani</td>\n",
              "      <td>chiragkriplani@yahoo.in</td>\n",
              "      <td>1</td>\n",
              "      <td>1</td>\n",
              "      <td>1</td>\n",
              "      <td>0</td>\n",
              "      <td>0</td>\n",
              "      <td>0</td>\n",
              "      <td>0</td>\n",
              "      <td>0</td>\n",
              "    </tr>\n",
              "    <tr>\n",
              "      <th>2</th>\n",
              "      <td>Hrishikesh Badakh</td>\n",
              "      <td>hrishikeshbadakh@gmail.com</td>\n",
              "      <td>1</td>\n",
              "      <td>0</td>\n",
              "      <td>0</td>\n",
              "      <td>0</td>\n",
              "      <td>0</td>\n",
              "      <td>0</td>\n",
              "      <td>0</td>\n",
              "      <td>0</td>\n",
              "    </tr>\n",
              "    <tr>\n",
              "      <th>3</th>\n",
              "      <td>Tanuj Balkhande</td>\n",
              "      <td>tbalkhande010@gmail.com</td>\n",
              "      <td>1</td>\n",
              "      <td>0</td>\n",
              "      <td>0</td>\n",
              "      <td>0</td>\n",
              "      <td>0</td>\n",
              "      <td>0</td>\n",
              "      <td>0</td>\n",
              "      <td>0</td>\n",
              "    </tr>\n",
              "    <tr>\n",
              "      <th>4</th>\n",
              "      <td>Sushil Kamble</td>\n",
              "      <td>iamsushil303@gmail.com</td>\n",
              "      <td>1</td>\n",
              "      <td>1</td>\n",
              "      <td>1</td>\n",
              "      <td>0</td>\n",
              "      <td>1</td>\n",
              "      <td>0</td>\n",
              "      <td>0</td>\n",
              "      <td>1</td>\n",
              "    </tr>\n",
              "  </tbody>\n",
              "</table>\n",
              "</div>"
            ],
            "text/plain": [
              "                Name                       Email  ... IOT ProjectManagement\n",
              "0      Aditya Kawale     adityamkawale@gmail.com  ...   0                 1\n",
              "1    Chirag Kriplani    chiragkriplani@yahoo.in   ...   0                 0\n",
              "2  Hrishikesh Badakh  hrishikeshbadakh@gmail.com  ...   0                 0\n",
              "3    Tanuj Balkhande     tbalkhande010@gmail.com  ...   0                 0\n",
              "4      Sushil Kamble      iamsushil303@gmail.com  ...   0                 1\n",
              "\n",
              "[5 rows x 10 columns]"
            ]
          },
          "metadata": {
            "tags": []
          }
        },
        {
          "output_type": "stream",
          "text": [
            "\u001b[34m\n",
            "Shape of genome dataframe : (78, 10)\u001b[0m\n"
          ],
          "name": "stdout"
        },
        {
          "output_type": "display_data",
          "data": {
            "text/html": [
              "<div>\n",
              "<style scoped>\n",
              "    .dataframe tbody tr th:only-of-type {\n",
              "        vertical-align: middle;\n",
              "    }\n",
              "\n",
              "    .dataframe tbody tr th {\n",
              "        vertical-align: top;\n",
              "    }\n",
              "\n",
              "    .dataframe thead th {\n",
              "        text-align: right;\n",
              "    }\n",
              "</style>\n",
              "<table border=\"1\" class=\"dataframe\">\n",
              "  <thead>\n",
              "    <tr style=\"text-align: right;\">\n",
              "      <th></th>\n",
              "      <th>count</th>\n",
              "      <th>unique</th>\n",
              "      <th>top</th>\n",
              "      <th>freq</th>\n",
              "    </tr>\n",
              "  </thead>\n",
              "  <tbody>\n",
              "    <tr>\n",
              "      <th>Name</th>\n",
              "      <td>78</td>\n",
              "      <td>78</td>\n",
              "      <td>Prathmesh Pethkar</td>\n",
              "      <td>1</td>\n",
              "    </tr>\n",
              "    <tr>\n",
              "      <th>Email</th>\n",
              "      <td>78</td>\n",
              "      <td>78</td>\n",
              "      <td>divekarsiddhi27@gmail.com</td>\n",
              "      <td>1</td>\n",
              "    </tr>\n",
              "    <tr>\n",
              "      <th>FrontEnd</th>\n",
              "      <td>78</td>\n",
              "      <td>2</td>\n",
              "      <td>1</td>\n",
              "      <td>60</td>\n",
              "    </tr>\n",
              "    <tr>\n",
              "      <th>BackEnd</th>\n",
              "      <td>78</td>\n",
              "      <td>2</td>\n",
              "      <td>1</td>\n",
              "      <td>50</td>\n",
              "    </tr>\n",
              "    <tr>\n",
              "      <th>Databases</th>\n",
              "      <td>78</td>\n",
              "      <td>2</td>\n",
              "      <td>1</td>\n",
              "      <td>57</td>\n",
              "    </tr>\n",
              "    <tr>\n",
              "      <th>Testing</th>\n",
              "      <td>78</td>\n",
              "      <td>2</td>\n",
              "      <td>0</td>\n",
              "      <td>69</td>\n",
              "    </tr>\n",
              "    <tr>\n",
              "      <th>Cloud</th>\n",
              "      <td>78</td>\n",
              "      <td>2</td>\n",
              "      <td>0</td>\n",
              "      <td>65</td>\n",
              "    </tr>\n",
              "    <tr>\n",
              "      <th>AI</th>\n",
              "      <td>78</td>\n",
              "      <td>2</td>\n",
              "      <td>0</td>\n",
              "      <td>70</td>\n",
              "    </tr>\n",
              "    <tr>\n",
              "      <th>IOT</th>\n",
              "      <td>78</td>\n",
              "      <td>2</td>\n",
              "      <td>0</td>\n",
              "      <td>71</td>\n",
              "    </tr>\n",
              "    <tr>\n",
              "      <th>ProjectManagement</th>\n",
              "      <td>78</td>\n",
              "      <td>2</td>\n",
              "      <td>0</td>\n",
              "      <td>59</td>\n",
              "    </tr>\n",
              "  </tbody>\n",
              "</table>\n",
              "</div>"
            ],
            "text/plain": [
              "                  count unique                        top freq\n",
              "Name                 78     78          Prathmesh Pethkar    1\n",
              "Email                78     78  divekarsiddhi27@gmail.com    1\n",
              "FrontEnd             78      2                          1   60\n",
              "BackEnd              78      2                          1   50\n",
              "Databases            78      2                          1   57\n",
              "Testing              78      2                          0   69\n",
              "Cloud                78      2                          0   65\n",
              "AI                   78      2                          0   70\n",
              "IOT                  78      2                          0   71\n",
              "ProjectManagement    78      2                          0   59"
            ]
          },
          "metadata": {
            "tags": []
          }
        }
      ]
    },
    {
      "cell_type": "code",
      "metadata": {
        "id": "XqRLztFoCQep"
      },
      "source": [
        ""
      ],
      "execution_count": null,
      "outputs": []
    },
    {
      "cell_type": "markdown",
      "metadata": {
        "id": "0nbODASlBfuv"
      },
      "source": [
        "# Genome Making - Approach 2\n",
        "(Using percentage based skills)"
      ]
    },
    {
      "cell_type": "markdown",
      "metadata": {
        "id": "eRsAnZTiFemM"
      },
      "source": [
        "Seeing count of skills per student"
      ]
    },
    {
      "cell_type": "code",
      "metadata": {
        "colab": {
          "base_uri": "https://localhost:8080/",
          "height": 0
        },
        "id": "Yr7InMU2DeSS",
        "outputId": "1336511c-4248-4a7e-c4e3-0216fe0e9cda"
      },
      "source": [
        "genome_columns = ['Name','Email','UI', 'API', 'Language', 'Tools', 'DB', 'Cloud', 'AI','IOT', 'Testing']\n",
        "genome_dataset = pd.DataFrame(columns=genome_columns)\n",
        "\n",
        "dataset.replace(np.nan, \"\",inplace=True)\n",
        "\n",
        "dataset_copy = dataset.copy(deep=True)\n",
        "\n",
        "for j in dataset_copy.columns[2:-1]:\n",
        "  for i,val in enumerate(dataset_copy[j]):\n",
        "      dataset_copy[j][i] = len(val.replace(\" \",\"\").split(','))\n",
        "\n",
        "display(dataset_copy.head())"
      ],
      "execution_count": 89,
      "outputs": [
        {
          "output_type": "display_data",
          "data": {
            "text/html": [
              "<div>\n",
              "<style scoped>\n",
              "    .dataframe tbody tr th:only-of-type {\n",
              "        vertical-align: middle;\n",
              "    }\n",
              "\n",
              "    .dataframe tbody tr th {\n",
              "        vertical-align: top;\n",
              "    }\n",
              "\n",
              "    .dataframe thead th {\n",
              "        text-align: right;\n",
              "    }\n",
              "</style>\n",
              "<table border=\"1\" class=\"dataframe\">\n",
              "  <thead>\n",
              "    <tr style=\"text-align: right;\">\n",
              "      <th></th>\n",
              "      <th>Name</th>\n",
              "      <th>Email</th>\n",
              "      <th>UI</th>\n",
              "      <th>API</th>\n",
              "      <th>Language</th>\n",
              "      <th>Tools</th>\n",
              "      <th>DB</th>\n",
              "      <th>Cloud</th>\n",
              "      <th>AI</th>\n",
              "      <th>IOT</th>\n",
              "      <th>Testing</th>\n",
              "      <th>SkillSet</th>\n",
              "    </tr>\n",
              "  </thead>\n",
              "  <tbody>\n",
              "    <tr>\n",
              "      <th>0</th>\n",
              "      <td>Aditya Kawale</td>\n",
              "      <td>adityamkawale@gmail.com</td>\n",
              "      <td>6</td>\n",
              "      <td>3</td>\n",
              "      <td>2</td>\n",
              "      <td>4</td>\n",
              "      <td>4</td>\n",
              "      <td>3</td>\n",
              "      <td>1</td>\n",
              "      <td>1</td>\n",
              "      <td>4</td>\n",
              "      <td>FrontEnd, BackEnd, Databases, Testing, Cloud, ...</td>\n",
              "    </tr>\n",
              "    <tr>\n",
              "      <th>1</th>\n",
              "      <td>Chirag Kriplani</td>\n",
              "      <td>chiragkriplani@yahoo.in</td>\n",
              "      <td>6</td>\n",
              "      <td>1</td>\n",
              "      <td>3</td>\n",
              "      <td>2</td>\n",
              "      <td>2</td>\n",
              "      <td>1</td>\n",
              "      <td>3</td>\n",
              "      <td>3</td>\n",
              "      <td>1</td>\n",
              "      <td>FrontEnd, BackEnd, Databases</td>\n",
              "    </tr>\n",
              "    <tr>\n",
              "      <th>2</th>\n",
              "      <td>Hrishikesh Badakh</td>\n",
              "      <td>hrishikeshbadakh@gmail.com</td>\n",
              "      <td>6</td>\n",
              "      <td>1</td>\n",
              "      <td>3</td>\n",
              "      <td>3</td>\n",
              "      <td>3</td>\n",
              "      <td>2</td>\n",
              "      <td>2</td>\n",
              "      <td>3</td>\n",
              "      <td>1</td>\n",
              "      <td>FrontEnd</td>\n",
              "    </tr>\n",
              "    <tr>\n",
              "      <th>3</th>\n",
              "      <td>Tanuj Balkhande</td>\n",
              "      <td>tbalkhande010@gmail.com</td>\n",
              "      <td>5</td>\n",
              "      <td>1</td>\n",
              "      <td>3</td>\n",
              "      <td>4</td>\n",
              "      <td>2</td>\n",
              "      <td>1</td>\n",
              "      <td>1</td>\n",
              "      <td>1</td>\n",
              "      <td>1</td>\n",
              "      <td>FrontEnd</td>\n",
              "    </tr>\n",
              "    <tr>\n",
              "      <th>4</th>\n",
              "      <td>Sushil Kamble</td>\n",
              "      <td>iamsushil303@gmail.com</td>\n",
              "      <td>5</td>\n",
              "      <td>1</td>\n",
              "      <td>3</td>\n",
              "      <td>4</td>\n",
              "      <td>6</td>\n",
              "      <td>3</td>\n",
              "      <td>1</td>\n",
              "      <td>1</td>\n",
              "      <td>1</td>\n",
              "      <td>FrontEnd, BackEnd, Databases, Cloud, ProjectMa...</td>\n",
              "    </tr>\n",
              "  </tbody>\n",
              "</table>\n",
              "</div>"
            ],
            "text/plain": [
              "                Name  ...                                           SkillSet\n",
              "0      Aditya Kawale  ...  FrontEnd, BackEnd, Databases, Testing, Cloud, ...\n",
              "1    Chirag Kriplani  ...                       FrontEnd, BackEnd, Databases\n",
              "2  Hrishikesh Badakh  ...                                           FrontEnd\n",
              "3    Tanuj Balkhande  ...                                           FrontEnd\n",
              "4      Sushil Kamble  ...  FrontEnd, BackEnd, Databases, Cloud, ProjectMa...\n",
              "\n",
              "[5 rows x 12 columns]"
            ]
          },
          "metadata": {
            "tags": []
          }
        }
      ]
    },
    {
      "cell_type": "markdown",
      "metadata": {
        "id": "NrWDHDFIFiya"
      },
      "source": [
        "Seeing percentage share of each skill"
      ]
    },
    {
      "cell_type": "code",
      "metadata": {
        "colab": {
          "base_uri": "https://localhost:8080/",
          "height": 0
        },
        "id": "dklKtaswChFU",
        "outputId": "9a3274c8-8914-4814-e43b-9427ae244416"
      },
      "source": [
        "genome_columns = ['Name','Email','UI', 'API', 'Language', 'Tools', 'DB', 'Cloud', 'AI','IOT', 'Testing']\n",
        "genome_dataset = pd.DataFrame(columns=genome_columns)\n",
        "\n",
        "dataset.replace(np.nan, \"\",inplace=True)\n",
        "\n",
        "for j in dataset.columns[2:-1]:\n",
        "  for i,val in enumerate(dataset[j]):\n",
        "      dataset[j][i] = len(val.replace(\" \",\"\").split(','))/8\n",
        "\n",
        "display(dataset.head())"
      ],
      "execution_count": 90,
      "outputs": [
        {
          "output_type": "display_data",
          "data": {
            "text/html": [
              "<div>\n",
              "<style scoped>\n",
              "    .dataframe tbody tr th:only-of-type {\n",
              "        vertical-align: middle;\n",
              "    }\n",
              "\n",
              "    .dataframe tbody tr th {\n",
              "        vertical-align: top;\n",
              "    }\n",
              "\n",
              "    .dataframe thead th {\n",
              "        text-align: right;\n",
              "    }\n",
              "</style>\n",
              "<table border=\"1\" class=\"dataframe\">\n",
              "  <thead>\n",
              "    <tr style=\"text-align: right;\">\n",
              "      <th></th>\n",
              "      <th>Name</th>\n",
              "      <th>Email</th>\n",
              "      <th>UI</th>\n",
              "      <th>API</th>\n",
              "      <th>Language</th>\n",
              "      <th>Tools</th>\n",
              "      <th>DB</th>\n",
              "      <th>Cloud</th>\n",
              "      <th>AI</th>\n",
              "      <th>IOT</th>\n",
              "      <th>Testing</th>\n",
              "      <th>SkillSet</th>\n",
              "    </tr>\n",
              "  </thead>\n",
              "  <tbody>\n",
              "    <tr>\n",
              "      <th>0</th>\n",
              "      <td>Aditya Kawale</td>\n",
              "      <td>adityamkawale@gmail.com</td>\n",
              "      <td>0.75</td>\n",
              "      <td>0.375</td>\n",
              "      <td>0.25</td>\n",
              "      <td>0.5</td>\n",
              "      <td>0.5</td>\n",
              "      <td>0.375</td>\n",
              "      <td>0.125</td>\n",
              "      <td>0.125</td>\n",
              "      <td>0.5</td>\n",
              "      <td>FrontEnd, BackEnd, Databases, Testing, Cloud, ...</td>\n",
              "    </tr>\n",
              "    <tr>\n",
              "      <th>1</th>\n",
              "      <td>Chirag Kriplani</td>\n",
              "      <td>chiragkriplani@yahoo.in</td>\n",
              "      <td>0.75</td>\n",
              "      <td>0.125</td>\n",
              "      <td>0.375</td>\n",
              "      <td>0.25</td>\n",
              "      <td>0.25</td>\n",
              "      <td>0.125</td>\n",
              "      <td>0.375</td>\n",
              "      <td>0.375</td>\n",
              "      <td>0.125</td>\n",
              "      <td>FrontEnd, BackEnd, Databases</td>\n",
              "    </tr>\n",
              "    <tr>\n",
              "      <th>2</th>\n",
              "      <td>Hrishikesh Badakh</td>\n",
              "      <td>hrishikeshbadakh@gmail.com</td>\n",
              "      <td>0.75</td>\n",
              "      <td>0.125</td>\n",
              "      <td>0.375</td>\n",
              "      <td>0.375</td>\n",
              "      <td>0.375</td>\n",
              "      <td>0.25</td>\n",
              "      <td>0.25</td>\n",
              "      <td>0.375</td>\n",
              "      <td>0.125</td>\n",
              "      <td>FrontEnd</td>\n",
              "    </tr>\n",
              "    <tr>\n",
              "      <th>3</th>\n",
              "      <td>Tanuj Balkhande</td>\n",
              "      <td>tbalkhande010@gmail.com</td>\n",
              "      <td>0.625</td>\n",
              "      <td>0.125</td>\n",
              "      <td>0.375</td>\n",
              "      <td>0.5</td>\n",
              "      <td>0.25</td>\n",
              "      <td>0.125</td>\n",
              "      <td>0.125</td>\n",
              "      <td>0.125</td>\n",
              "      <td>0.125</td>\n",
              "      <td>FrontEnd</td>\n",
              "    </tr>\n",
              "    <tr>\n",
              "      <th>4</th>\n",
              "      <td>Sushil Kamble</td>\n",
              "      <td>iamsushil303@gmail.com</td>\n",
              "      <td>0.625</td>\n",
              "      <td>0.125</td>\n",
              "      <td>0.375</td>\n",
              "      <td>0.5</td>\n",
              "      <td>0.75</td>\n",
              "      <td>0.375</td>\n",
              "      <td>0.125</td>\n",
              "      <td>0.125</td>\n",
              "      <td>0.125</td>\n",
              "      <td>FrontEnd, BackEnd, Databases, Cloud, ProjectMa...</td>\n",
              "    </tr>\n",
              "  </tbody>\n",
              "</table>\n",
              "</div>"
            ],
            "text/plain": [
              "                Name  ...                                           SkillSet\n",
              "0      Aditya Kawale  ...  FrontEnd, BackEnd, Databases, Testing, Cloud, ...\n",
              "1    Chirag Kriplani  ...                       FrontEnd, BackEnd, Databases\n",
              "2  Hrishikesh Badakh  ...                                           FrontEnd\n",
              "3    Tanuj Balkhande  ...                                           FrontEnd\n",
              "4      Sushil Kamble  ...  FrontEnd, BackEnd, Databases, Cloud, ProjectMa...\n",
              "\n",
              "[5 rows x 12 columns]"
            ]
          },
          "metadata": {
            "tags": []
          }
        }
      ]
    },
    {
      "cell_type": "markdown",
      "metadata": {
        "id": "WnH0PjIv3zPz"
      },
      "source": [
        "Now we have values for fitness function, now we will start with Genetic Algorithm"
      ]
    },
    {
      "cell_type": "markdown",
      "metadata": {
        "id": "nbruMcNE-Vbg"
      },
      "source": [
        "# Creating genetic algorithm classes"
      ]
    },
    {
      "cell_type": "markdown",
      "metadata": {
        "id": "YflOwmcL-oAS"
      },
      "source": [
        "Creating Population for genetic algorithm"
      ]
    },
    {
      "cell_type": "code",
      "metadata": {
        "id": "olxIhkxA-rXL"
      },
      "source": [
        "class Population:\n",
        "\n",
        "  #Initialising Population class\n",
        "  def __init__(self, populationSize,total_students,teamSize):\n",
        "    self.populationSize = populationSize\n",
        "    self.total_students = total_students\n",
        "    self.teamSize = teamSize\n",
        "    self.population = []\n",
        "    self.random_selected_students = []\n",
        "  \n",
        "  #Printing details of Population object\n",
        "  def __str__(self):\n",
        "    return (\"Initial Population has {} genomes\\nEach genome has {} students.\\nEach genome has only {} team members\".format(self.populationSize, self.total_students,self.teamSize))\n",
        "\n",
        "  #Making initial population of popultionSize count\n",
        "  def initGenomes(self):\n",
        "    for j in range(1,self.populationSize+1):\n",
        "      i = Individual(genomeSize = self.total_students,teamSize=self.teamSize)\n",
        "      i.selectTeamMembers()\n",
        "      print(\"Team #{}\\n{}\".format(j,i),end=\"\\n\\n\")\n",
        "      self.population.append(i)\n",
        "\n",
        "  #Bring total_students details for GA from global dataset(Github/Cleaned)\n",
        "  def createStudentDataset(self):\n",
        "    self.random_selected_students = rn.sample(range(0,dataset.shape[0]-1),self.total_students)\n",
        "    print(self.random_selected_students)\n",
        "\n",
        "  def showCreatedStudents(self):\n",
        "    for student in self.random_selected_students:\n",
        "      display(dataset.iloc[student])\n",
        "    \n",
        "  #calculates the fitness for each team\n",
        "  def calc_fitness(self):\n",
        "    pass\n",
        "\n",
        "  #Should return top 2 teams\n",
        "  def checkFitness(self):\n",
        "    pass\n",
        "  \n"
      ],
      "execution_count": 114,
      "outputs": []
    },
    {
      "cell_type": "code",
      "metadata": {
        "id": "ne0wSJJu3yFo"
      },
      "source": [
        "class Individual:\n",
        "  def __init__(self,genomeSize,teamSize):\n",
        "    self.genomeSize = genomeSize\n",
        "    self.teamSize = teamSize\n",
        "    self.genome = [0]*genomeSize\n",
        "\n",
        "  def __str__(self):\n",
        "    return (\"Individual has {} students.\\nOut of these {} students, only {} are considered in team.\\nThe team members are at position: {}\\nTeam looks like : {}\\n\".format(self.genomeSize,self.genomeSize,self.teamSize,self.teamMemberIndexList,self.genome))\n",
        " \n",
        "  def selectTeamMembers(self):\n",
        "    self.teamMemberIndexList = rn.sample(range(0,self.genomeSize-1),self.teamSize)\n",
        "    for i in self.teamMemberIndexList:\n",
        "      self.genome[i] = 1"
      ],
      "execution_count": 50,
      "outputs": []
    },
    {
      "cell_type": "code",
      "metadata": {
        "id": "f5P541FaCHUR"
      },
      "source": [
        "p = Population(populationSize=8, total_students=10, teamSize=4)\n",
        "print(p,end=\"\\n\\n\")\n",
        "print(colored(\"These are teams\\n\",\"blue\"))\n",
        "p.initGenomes()"
      ],
      "execution_count": null,
      "outputs": []
    },
    {
      "cell_type": "code",
      "metadata": {
        "colab": {
          "base_uri": "https://localhost:8080/",
          "height": 1000
        },
        "id": "rTuIjE9CIPsH",
        "outputId": "76b83901-e032-48ee-eb20-ff6c48776330"
      },
      "source": [
        "p.createStudentDataset()\n",
        "p.showCreatedStudents()"
      ],
      "execution_count": 116,
      "outputs": [
        {
          "output_type": "stream",
          "text": [
            "[10, 65, 26, 39, 42, 67, 60, 31, 17, 19]\n"
          ],
          "name": "stdout"
        },
        {
          "output_type": "display_data",
          "data": {
            "text/plain": [
              "Name                      rutuja kaldate\n",
              "Email              rjkaldate17@gmail.com\n",
              "UI                                 0.125\n",
              "API                                0.125\n",
              "Language                            0.25\n",
              "Tools                              0.125\n",
              "DB                                  0.25\n",
              "Cloud                              0.125\n",
              "AI                                 0.125\n",
              "IOT                                0.125\n",
              "Testing                            0.125\n",
              "SkillSet    Databases, ProjectManagement\n",
              "Name: 10, dtype: object"
            ]
          },
          "metadata": {
            "tags": []
          }
        },
        {
          "output_type": "display_data",
          "data": {
            "text/plain": [
              "Name                    shivam parve\n",
              "Email       shivam.17u113@viit.ac.in\n",
              "UI                             0.125\n",
              "API                            0.125\n",
              "Language                       0.125\n",
              "Tools                           0.25\n",
              "DB                             0.125\n",
              "Cloud                          0.125\n",
              "AI                             0.125\n",
              "IOT                            0.125\n",
              "Testing                        0.375\n",
              "SkillSet              BackEnd, Cloud\n",
              "Name: 65, dtype: object"
            ]
          },
          "metadata": {
            "tags": []
          }
        },
        {
          "output_type": "display_data",
          "data": {
            "text/plain": [
              "Name                               Shrinivas Patil\n",
              "Email                 shrinivaspatil4492@gmail.com\n",
              "UI                                           0.625\n",
              "API                                           0.25\n",
              "Language                                       0.5\n",
              "Tools                                        0.375\n",
              "DB                                           0.375\n",
              "Cloud                                         0.25\n",
              "AI                                           0.375\n",
              "IOT                                          0.875\n",
              "Testing                                      0.125\n",
              "SkillSet    FrontEnd, Databases, ProjectManagement\n",
              "Name: 26, dtype: object"
            ]
          },
          "metadata": {
            "tags": []
          }
        },
        {
          "output_type": "display_data",
          "data": {
            "text/plain": [
              "Name                                    Dhanashree Bhandari\n",
              "Email                      dhanashreebhandari2410@gmail.com\n",
              "UI                                                      0.5\n",
              "API                                                   0.375\n",
              "Language                                              0.625\n",
              "Tools                                                 0.375\n",
              "DB                                                      0.5\n",
              "Cloud                                                  0.25\n",
              "AI                                                    0.125\n",
              "IOT                                                    0.25\n",
              "Testing                                                0.25\n",
              "SkillSet    FrontEnd, BackEnd, Databases, ProjectManagement\n",
              "Name: 39, dtype: object"
            ]
          },
          "metadata": {
            "tags": []
          }
        },
        {
          "output_type": "display_data",
          "data": {
            "text/plain": [
              "Name                      Pranali Shinde\n",
              "Email              pranaliss25@gmail.com\n",
              "UI                                 0.375\n",
              "API                                0.125\n",
              "Language                           0.375\n",
              "Tools                               0.25\n",
              "DB                                  0.25\n",
              "Cloud                              0.125\n",
              "AI                                 0.125\n",
              "IOT                                0.125\n",
              "Testing                             0.25\n",
              "SkillSet    FrontEnd, BackEnd, Databases\n",
              "Name: 42, dtype: object"
            ]
          },
          "metadata": {
            "tags": []
          }
        },
        {
          "output_type": "display_data",
          "data": {
            "text/plain": [
              "Name                       Shreyas Nikam\n",
              "Email            nik4m.5hreyas@gmail.com\n",
              "UI                                  0.75\n",
              "API                                 0.25\n",
              "Language                             0.5\n",
              "Tools                               0.25\n",
              "DB                                 0.375\n",
              "Cloud                               0.25\n",
              "AI                                   0.5\n",
              "IOT                                0.125\n",
              "Testing                            0.375\n",
              "SkillSet    FrontEnd, BackEnd, Databases\n",
              "Name: 67, dtype: object"
            ]
          },
          "metadata": {
            "tags": []
          }
        },
        {
          "output_type": "display_data",
          "data": {
            "text/plain": [
              "Name                    Ramya Joshi\n",
              "Email       joshiramya99@gmail.com \n",
              "UI                             0.25\n",
              "API                           0.125\n",
              "Language                      0.375\n",
              "Tools                         0.125\n",
              "DB                             0.25\n",
              "Cloud                         0.125\n",
              "AI                             0.25\n",
              "IOT                           0.125\n",
              "Testing                       0.125\n",
              "SkillSet     BackEnd, Databases, AI\n",
              "Name: 60, dtype: object"
            ]
          },
          "metadata": {
            "tags": []
          }
        },
        {
          "output_type": "display_data",
          "data": {
            "text/plain": [
              "Name                                     Dnyaneshwari Mahajan\n",
              "Email                                    dnyanu9498@gmail.com\n",
              "UI                                                        0.5\n",
              "API                                                     0.625\n",
              "Language                                                0.625\n",
              "Tools                                                   0.375\n",
              "DB                                                        0.5\n",
              "Cloud                                                    0.75\n",
              "AI                                                      0.375\n",
              "IOT                                                     0.875\n",
              "Testing                                                  0.75\n",
              "SkillSet    FrontEnd, BackEnd, Databases, Testing, Cloud, ...\n",
              "Name: 31, dtype: object"
            ]
          },
          "metadata": {
            "tags": []
          }
        },
        {
          "output_type": "display_data",
          "data": {
            "text/plain": [
              "Name                  Sneha Mathapati\n",
              "Email       sneha9049106831@gmail.com\n",
              "UI                              0.375\n",
              "API                             0.125\n",
              "Language                        0.375\n",
              "Tools                           0.125\n",
              "DB                              0.125\n",
              "Cloud                           0.125\n",
              "AI                              0.125\n",
              "IOT                             0.125\n",
              "Testing                         0.125\n",
              "SkillSet                     FrontEnd\n",
              "Name: 17, dtype: object"
            ]
          },
          "metadata": {
            "tags": []
          }
        },
        {
          "output_type": "display_data",
          "data": {
            "text/plain": [
              "Name                 Vishal Dusane\n",
              "Email       vishalrd1999@gmail.com\n",
              "UI                             0.5\n",
              "API                           0.25\n",
              "Language                     0.375\n",
              "Tools                         0.25\n",
              "DB                           0.375\n",
              "Cloud                        0.125\n",
              "AI                           0.125\n",
              "IOT                          0.125\n",
              "Testing                       0.25\n",
              "SkillSet        BackEnd, Databases\n",
              "Name: 19, dtype: object"
            ]
          },
          "metadata": {
            "tags": []
          }
        }
      ]
    },
    {
      "cell_type": "markdown",
      "metadata": {
        "id": "fZU0V6yJ-cLQ"
      },
      "source": [
        "Creating Individual for population"
      ]
    }
  ]
}