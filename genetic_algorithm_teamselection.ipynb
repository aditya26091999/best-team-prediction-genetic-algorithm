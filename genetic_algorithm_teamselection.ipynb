{
  "nbformat": 4,
  "nbformat_minor": 0,
  "metadata": {
    "colab": {
      "name": "genetic-algorithm-teamselection.ipynb",
      "provenance": [],
      "collapsed_sections": [],
      "authorship_tag": "ABX9TyPPwbmtT7BHGX4LWEbgsWes",
      "include_colab_link": true
    },
    "kernelspec": {
      "name": "python3",
      "display_name": "Python 3"
    },
    "language_info": {
      "name": "python"
    }
  },
  "cells": [
    {
      "cell_type": "markdown",
      "metadata": {
        "id": "view-in-github",
        "colab_type": "text"
      },
      "source": [
        "<a href=\"https://colab.research.google.com/github/aditya26091999/genetic-algo-team-selection/blob/master/genetic_algorithm_teamselection.ipynb\" target=\"_parent\"><img src=\"https://colab.research.google.com/assets/colab-badge.svg\" alt=\"Open In Colab\"/></a>"
      ]
    },
    {
      "cell_type": "markdown",
      "metadata": {
        "id": "A49dmLUYqQpR"
      },
      "source": [
        "Importing dependencies"
      ]
    },
    {
      "cell_type": "code",
      "metadata": {
        "colab": {
          "base_uri": "https://localhost:8080/"
        },
        "id": "UlPID0mSkuY7",
        "outputId": "abd471f7-f85d-4053-9746-6467fa001995"
      },
      "source": [
        "!pip install termcolor\n",
        "import numpy as np\n",
        "import pandas as pd\n",
        "import matplotlib.pyplot as plt\n",
        "from termcolor import colored\n"
      ],
      "execution_count": 49,
      "outputs": [
        {
          "output_type": "stream",
          "text": [
            "Requirement already satisfied: termcolor in /usr/local/lib/python3.7/dist-packages (1.1.0)\n"
          ],
          "name": "stdout"
        }
      ]
    },
    {
      "cell_type": "markdown",
      "metadata": {
        "id": "g-i-wZOqqZph"
      },
      "source": [
        "Importing dataset from GitHub"
      ]
    },
    {
      "cell_type": "code",
      "metadata": {
        "colab": {
          "base_uri": "https://localhost:8080/",
          "height": 678
        },
        "id": "SfnGmwv8jkFt",
        "outputId": "e26d445f-b99b-4570-be5a-c74b7717f546"
      },
      "source": [
        "#loading the dataset from Github folder\n",
        "datasetUrl = 'https://raw.githubusercontent.com/aditya26091999/genetic-algo-team-selection/master/SCOA_Dataset.csv?token=AMREUDFFUSQ4AQGENVAWS4DAXME7Q'\n",
        "dataset = pd.read_csv(datasetUrl)\n",
        "\n",
        "#checking the dataset loaded from Github\n",
        "display(dataset.head())"
      ],
      "execution_count": 50,
      "outputs": [
        {
          "output_type": "display_data",
          "data": {
            "text/html": [
              "<div>\n",
              "<style scoped>\n",
              "    .dataframe tbody tr th:only-of-type {\n",
              "        vertical-align: middle;\n",
              "    }\n",
              "\n",
              "    .dataframe tbody tr th {\n",
              "        vertical-align: top;\n",
              "    }\n",
              "\n",
              "    .dataframe thead th {\n",
              "        text-align: right;\n",
              "    }\n",
              "</style>\n",
              "<table border=\"1\" class=\"dataframe\">\n",
              "  <thead>\n",
              "    <tr style=\"text-align: right;\">\n",
              "      <th></th>\n",
              "      <th>Timestamp</th>\n",
              "      <th>Name</th>\n",
              "      <th>Email</th>\n",
              "      <th>User Interface (UI) [UI]</th>\n",
              "      <th>API (Server Side programming) [API]</th>\n",
              "      <th>Languages [Language]</th>\n",
              "      <th>Tools [Tools]</th>\n",
              "      <th>Databases [DB]</th>\n",
              "      <th>Cloud [Cloud]</th>\n",
              "      <th>Artificial Intelligence [AI]</th>\n",
              "      <th>Internet of Things [IOT]</th>\n",
              "      <th>Testing [Testing]</th>\n",
              "      <th>Overview of your skillset [SkillSet]</th>\n",
              "    </tr>\n",
              "  </thead>\n",
              "  <tbody>\n",
              "    <tr>\n",
              "      <th>0</th>\n",
              "      <td>5/22/2021 10:53:05</td>\n",
              "      <td>Aditya Kawale</td>\n",
              "      <td>adityamkawale@gmail.com</td>\n",
              "      <td>HTML, CSS, JavaScript, Angular, React, Bootstrap</td>\n",
              "      <td>Flask, Django, Anvil</td>\n",
              "      <td>Python, Java</td>\n",
              "      <td>Jenkins, Docker, Git, JIRA</td>\n",
              "      <td>MySQL, Oracle, MongoDB, SQLite</td>\n",
              "      <td>Heroku, Firebase, Azure</td>\n",
              "      <td>Speech Recognition</td>\n",
              "      <td>RaspberryPi</td>\n",
              "      <td>JUnit, Selenium, Postman, SoapUI</td>\n",
              "      <td>FrontEnd, BackEnd, Databases, Testing, Cloud, ...</td>\n",
              "    </tr>\n",
              "    <tr>\n",
              "      <th>1</th>\n",
              "      <td>5/22/2021 10:58:35</td>\n",
              "      <td>Chirag Kriplani</td>\n",
              "      <td>chiragkriplani@yahoo.in</td>\n",
              "      <td>HTML, CSS, JavaScript, Angular, Native Android...</td>\n",
              "      <td>Spring</td>\n",
              "      <td>Java, C++, C</td>\n",
              "      <td>Git, JIRA</td>\n",
              "      <td>MySQL, MongoDB</td>\n",
              "      <td>NaN</td>\n",
              "      <td>Tensorflow, Keras, Computer Vision</td>\n",
              "      <td>RaspberryPi, Arduino, Motors</td>\n",
              "      <td>Postman</td>\n",
              "      <td>FrontEnd, BackEnd, Databases</td>\n",
              "    </tr>\n",
              "    <tr>\n",
              "      <th>2</th>\n",
              "      <td>5/22/2021 10:59:22</td>\n",
              "      <td>Hrishikesh Badakh</td>\n",
              "      <td>hrishikeshbadakh@gmail.com</td>\n",
              "      <td>HTML, CSS, JavaScript, Angular, React, Bootstrap</td>\n",
              "      <td>Django</td>\n",
              "      <td>Python, Java, C++</td>\n",
              "      <td>Kubernetes, Git, JIRA</td>\n",
              "      <td>MySQL, Oracle, MongoDB</td>\n",
              "      <td>Heroku, AWS</td>\n",
              "      <td>Tensorflow, Keras</td>\n",
              "      <td>RaspberryPi, Arduino, RFID module</td>\n",
              "      <td>NaN</td>\n",
              "      <td>FrontEnd</td>\n",
              "    </tr>\n",
              "    <tr>\n",
              "      <th>3</th>\n",
              "      <td>5/22/2021 11:01:29</td>\n",
              "      <td>Tanuj Balkhande</td>\n",
              "      <td>tbalkhande010@gmail.com</td>\n",
              "      <td>HTML, CSS, JavaScript, Angular, Bootstrap</td>\n",
              "      <td>Flask</td>\n",
              "      <td>Python, C++, C</td>\n",
              "      <td>Windows Shell Script, Linux Bash, Powershell, Git</td>\n",
              "      <td>MySQL, MongoDB</td>\n",
              "      <td>Heroku</td>\n",
              "      <td>NaN</td>\n",
              "      <td>NaN</td>\n",
              "      <td>NaN</td>\n",
              "      <td>FrontEnd</td>\n",
              "    </tr>\n",
              "    <tr>\n",
              "      <th>4</th>\n",
              "      <td>5/22/2021 11:01:30</td>\n",
              "      <td>Sushil Kamble</td>\n",
              "      <td>iamsushil303@gmail.com</td>\n",
              "      <td>HTML, CSS, JavaScript, React, Bootstrap</td>\n",
              "      <td>Django</td>\n",
              "      <td>Python, Java, C++</td>\n",
              "      <td>Windows Shell Script, Linux Bash, Powershell, Git</td>\n",
              "      <td>MySQL, Oracle, SQLServer, PostgresSQL, MongoDB...</td>\n",
              "      <td>Heroku, Firebase, GCP</td>\n",
              "      <td>NaN</td>\n",
              "      <td>NaN</td>\n",
              "      <td>NaN</td>\n",
              "      <td>FrontEnd, BackEnd, Databases, Cloud, ProjectMa...</td>\n",
              "    </tr>\n",
              "  </tbody>\n",
              "</table>\n",
              "</div>"
            ],
            "text/plain": [
              "            Timestamp  ...               Overview of your skillset [SkillSet]\n",
              "0  5/22/2021 10:53:05  ...  FrontEnd, BackEnd, Databases, Testing, Cloud, ...\n",
              "1  5/22/2021 10:58:35  ...                       FrontEnd, BackEnd, Databases\n",
              "2  5/22/2021 10:59:22  ...                                           FrontEnd\n",
              "3  5/22/2021 11:01:29  ...                                           FrontEnd\n",
              "4  5/22/2021 11:01:30  ...  FrontEnd, BackEnd, Databases, Cloud, ProjectMa...\n",
              "\n",
              "[5 rows x 13 columns]"
            ]
          },
          "metadata": {
            "tags": []
          }
        }
      ]
    },
    {
      "cell_type": "markdown",
      "metadata": {
        "id": "Fgze5BeNqcgk"
      },
      "source": [
        "Displaying - Original dataset<br>\n",
        "Removing obsolete columns, Showing shape, renaming columns"
      ]
    },
    {
      "cell_type": "code",
      "metadata": {
        "colab": {
          "base_uri": "https://localhost:8080/"
        },
        "id": "9DiDWHWkk7r7",
        "outputId": "6d45c39e-e216-4d35-b622-ec7e3f91e635"
      },
      "source": [
        "print(colored(\"Original dataset columns\\n\",\"blue\"))\n",
        "print(dataset.columns)\n",
        "print(colored(\"\\nOriginal dataset shape : {}\".format(str(dataset.shape)),\"blue\"))\n",
        "\n",
        "dataset.drop(['Timestamp'],axis=1,inplace=True)\n",
        "dataset.rename(columns={'User Interface (UI) [UI]': 'UI','API (Server Side programming) [API]':'API','Languages [Language]':'Language','Tools [Tools]':'Tools','Databases [DB]':'DB','Cloud [Cloud]':'Cloud','Artificial Intelligence [AI]':'AI','Internet of Things [IOT]':'IOT','Testing [Testing]':'Testing','Overview of your skillset [SkillSet]':'SkillSet'}, inplace=True)\n",
        "print(colored(\"\\nAfter removing obsolete columns\\n\",\"blue\"))\n",
        "print(dataset.columns)\n",
        "print(colored(\"\\nPreprocessed dataset shape : {}\".format(str(dataset.shape)),\"blue\"))"
      ],
      "execution_count": 51,
      "outputs": [
        {
          "output_type": "stream",
          "text": [
            "\u001b[34mOriginal dataset columns\n",
            "\u001b[0m\n",
            "Index(['Timestamp', 'Name', 'Email', 'User Interface (UI) [UI]',\n",
            "       'API (Server Side programming) [API]', 'Languages [Language]',\n",
            "       'Tools [Tools]', 'Databases [DB]', 'Cloud [Cloud]',\n",
            "       'Artificial Intelligence [AI]', 'Internet of Things [IOT]',\n",
            "       'Testing [Testing]', 'Overview of your skillset [SkillSet]'],\n",
            "      dtype='object')\n",
            "\u001b[34m\n",
            "Original dataset shape : (78, 13)\u001b[0m\n",
            "\u001b[34m\n",
            "After removing obsolete columns\n",
            "\u001b[0m\n",
            "Index(['Name', 'Email', 'UI', 'API', 'Language', 'Tools', 'DB', 'Cloud', 'AI',\n",
            "       'IOT', 'Testing', 'SkillSet'],\n",
            "      dtype='object')\n",
            "\u001b[34mPreprocessed dataset shape : (78, 12)\u001b[0m\n"
          ],
          "name": "stdout"
        }
      ]
    },
    {
      "cell_type": "code",
      "metadata": {
        "id": "Eb1Ortihn0ne"
      },
      "source": [
        ""
      ],
      "execution_count": 51,
      "outputs": []
    },
    {
      "cell_type": "code",
      "metadata": {
        "id": "I6Nls_NvlP7q"
      },
      "source": [
        ""
      ],
      "execution_count": 51,
      "outputs": []
    }
  ]
}